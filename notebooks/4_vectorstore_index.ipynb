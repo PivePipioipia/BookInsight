{
 "cells": [
  {
   "cell_type": "code",
   "id": "initial_id",
   "metadata": {
    "collapsed": true,
    "ExecuteTime": {
     "end_time": "2025-10-06T16:35:29.946027Z",
     "start_time": "2025-10-06T16:35:29.059681Z"
    }
   },
   "source": "import os, sys, pandas as pd",
   "outputs": [],
   "execution_count": 1
  },
  {
   "metadata": {
    "ExecuteTime": {
     "end_time": "2025-10-06T16:35:31.026577Z",
     "start_time": "2025-10-06T16:35:29.960175Z"
    }
   },
   "cell_type": "code",
   "source": [
    "from src.config import DATA_DIR\n",
    "from src.vectorstore import build_faiss_index, test_query, load_faiss_index\n"
   ],
   "id": "8d7465c23c7080f1",
   "outputs": [
    {
     "name": "stdout",
     "output_type": "stream",
     "text": [
      " Config loaded. Base dir: D:\\BookInsight\n"
     ]
    }
   ],
   "execution_count": 2
  },
  {
   "metadata": {
    "ExecuteTime": {
     "end_time": "2025-10-06T16:35:34.183890Z",
     "start_time": "2025-10-06T16:35:31.026577Z"
    }
   },
   "cell_type": "code",
   "source": [
    "embed_path = os.path.join(DATA_DIR, \"embeddings\", \"text\", \"amazon_books_shard_0_embed.parquet\")\n",
    "\n",
    "df = pd.read_parquet(embed_path)\n",
    "print(\" Loaded parquet:\", df.shape)\n",
    "print(\" Columns:\", df.columns.tolist())\n",
    "df.head(2)\n"
   ],
   "id": "9a44e2cbb7d91552",
   "outputs": [
    {
     "name": "stdout",
     "output_type": "stream",
     "text": [
      " Loaded parquet: (88964, 3)\n",
      " Columns: ['unique_id', 'document_text', 'embedding']\n"
     ]
    },
    {
     "data": {
      "text/plain": [
       "        unique_id                                      document_text  \\\n",
       "0  978-0701169855  chaucer hardcover – import, january 1, 2004 pe...   \n",
       "1  978-0435088682  notes from a kidwatcher first edition about th...   \n",
       "\n",
       "                                           embedding  \n",
       "0  [0.0007310961955226958, 0.09172853827476501, 0...  \n",
       "1  [-0.05868436023592949, 0.008027782663702965, 0...  "
      ],
      "text/html": [
       "<div>\n",
       "<style scoped>\n",
       "    .dataframe tbody tr th:only-of-type {\n",
       "        vertical-align: middle;\n",
       "    }\n",
       "\n",
       "    .dataframe tbody tr th {\n",
       "        vertical-align: top;\n",
       "    }\n",
       "\n",
       "    .dataframe thead th {\n",
       "        text-align: right;\n",
       "    }\n",
       "</style>\n",
       "<table border=\"1\" class=\"dataframe\">\n",
       "  <thead>\n",
       "    <tr style=\"text-align: right;\">\n",
       "      <th></th>\n",
       "      <th>unique_id</th>\n",
       "      <th>document_text</th>\n",
       "      <th>embedding</th>\n",
       "    </tr>\n",
       "  </thead>\n",
       "  <tbody>\n",
       "    <tr>\n",
       "      <th>0</th>\n",
       "      <td>978-0701169855</td>\n",
       "      <td>chaucer hardcover – import, january 1, 2004 pe...</td>\n",
       "      <td>[0.0007310961955226958, 0.09172853827476501, 0...</td>\n",
       "    </tr>\n",
       "    <tr>\n",
       "      <th>1</th>\n",
       "      <td>978-0435088682</td>\n",
       "      <td>notes from a kidwatcher first edition about th...</td>\n",
       "      <td>[-0.05868436023592949, 0.008027782663702965, 0...</td>\n",
       "    </tr>\n",
       "  </tbody>\n",
       "</table>\n",
       "</div>"
      ]
     },
     "execution_count": 3,
     "metadata": {},
     "output_type": "execute_result"
    }
   ],
   "execution_count": 3
  },
  {
   "metadata": {
    "ExecuteTime": {
     "end_time": "2025-10-06T16:35:59.014108Z",
     "start_time": "2025-10-06T16:35:34.247958Z"
    }
   },
   "cell_type": "code",
   "source": [
    "index_path = os.path.join(DATA_DIR, \"vectorstores\", \"text_faiss\", \"shard_0\")\n",
    "\n",
    "index = load_faiss_index(index_path)\n",
    "print(\" Index loaded!\")\n",
    "\n",
    "queries = [\n",
    "    \"biography of english author\",\n",
    "    \"children's book about reading and writing\",\n",
    "    \"navy seal war memoir\"\n",
    "]\n",
    "\n",
    "for q in queries:\n",
    "    results = test_query(index, q, k=2)\n",
    "    for r in results:\n",
    "        print(\"-\", r[:200].replace(\"\\n\", \" \"), \"...\")\n"
   ],
   "id": "5a417be5cbfbbbbd",
   "outputs": [
    {
     "name": "stdout",
     "output_type": "stream",
     "text": [
      " Loading FAISS index from: D:\\BookInsight\\data\\vectorstores\\text_faiss\\shard_0\n"
     ]
    },
    {
     "name": "stderr",
     "output_type": "stream",
     "text": [
      "D:\\BookInsight\\src\\vectorstore.py:51: LangChainDeprecationWarning: The class `HuggingFaceEmbeddings` was deprecated in LangChain 0.2.2 and will be removed in 1.0. An updated version of the class exists in the :class:`~langchain-huggingface package and should be used instead. To use it run `pip install -U :class:`~langchain-huggingface` and import as `from :class:`~langchain_huggingface import HuggingFaceEmbeddings``.\n",
      "  embedding_model = HuggingFaceEmbeddings(model_name=model_name)\n"
     ]
    },
    {
     "name": "stdout",
     "output_type": "stream",
     "text": [
      "FAISS index loaded\n",
      " Index loaded!\n",
      " Query: biography of english author\n",
      " Found 2 results\n",
      "- john dryden and his world paperback – september 10, 1989 a biography of the poet, dramatist, critic, and translator who dominated english literature for forty years and earned the positions of poet la ...\n",
      "- the lives of the most famous english poets (1687) paperback – march 6, 2015 this collection of literature attempts to compile many of the classic works that have stood the test of time and offer them  ...\n",
      " Query: children's book about reading and writing\n",
      " Found 2 results\n",
      "- written and illustrated by: a revolutionary two-brain approach for teaching students how to write and illustrate amazing books paperback – november 1, 1985 review i wouldn't trade the experiences i sh ...\n",
      "- struggling readers 1st grade. 100 activities with easy texts for kids to improve reading and writing skills. grade 1. volume 2. 6-7 years. paperback – large print, july 7, 2022 struggling readers 1st  ...\n",
      " Query: navy seal war memoir\n",
      " Found 2 results\n",
      "- seal's secret: a secret baby military romance unknown  books > literature & fiction > women's fiction unknown unknown ...\n",
      "- combat corpsman: the vietnam memoir of a navy seals medic paperback – november 1, 2005 about the author greg mcpartlin is a former navy seals medic who served a year in vietnam just as the war was esc ...\n"
     ]
    }
   ],
   "execution_count": 4
  },
  {
   "metadata": {
    "ExecuteTime": {
     "end_time": "2025-10-06T16:36:05.704215Z",
     "start_time": "2025-10-06T16:35:59.096478Z"
    }
   },
   "cell_type": "code",
   "source": [
    "from src.vectorstore import load_faiss_index, test_query\n",
    "\n",
    "index_path = os.path.join(DATA_DIR, \"vectorstores\", \"text_faiss\", \"shard_0\")\n",
    "\n",
    "index = load_faiss_index(index_path)\n",
    "print(\"index loaded\")\n",
    "\n",
    "queries = [\n",
    "    \"children's book about reading and writing\",\n",
    "    \"biography of english author\",\n",
    "    \"navy seal war memoir\"\n",
    "]\n",
    "\n",
    "for q in queries:\n",
    "    print(\"\\nQuery:\", q)\n",
    "    results = test_query(index, q, k=2)\n",
    "    for r in results:\n",
    "        print(\"-\", r[:200].replace(\"\\n\", \" \"), \"...\")"
   ],
   "id": "c061e4d89473336a",
   "outputs": [
    {
     "name": "stdout",
     "output_type": "stream",
     "text": [
      " Loading FAISS index from: D:\\BookInsight\\data\\vectorstores\\text_faiss\\shard_0\n",
      "FAISS index loaded\n",
      "index loaded\n",
      "\n",
      "Query: children's book about reading and writing\n",
      " Query: children's book about reading and writing\n",
      " Found 2 results\n",
      "- written and illustrated by: a revolutionary two-brain approach for teaching students how to write and illustrate amazing books paperback – november 1, 1985 review i wouldn't trade the experiences i sh ...\n",
      "- struggling readers 1st grade. 100 activities with easy texts for kids to improve reading and writing skills. grade 1. volume 2. 6-7 years. paperback – large print, july 7, 2022 struggling readers 1st  ...\n",
      "\n",
      "Query: biography of english author\n",
      " Query: biography of english author\n",
      " Found 2 results\n",
      "- john dryden and his world paperback – september 10, 1989 a biography of the poet, dramatist, critic, and translator who dominated english literature for forty years and earned the positions of poet la ...\n",
      "- the lives of the most famous english poets (1687) paperback – march 6, 2015 this collection of literature attempts to compile many of the classic works that have stood the test of time and offer them  ...\n",
      "\n",
      "Query: navy seal war memoir\n",
      " Query: navy seal war memoir\n",
      " Found 2 results\n",
      "- seal's secret: a secret baby military romance unknown  books > literature & fiction > women's fiction unknown unknown ...\n",
      "- combat corpsman: the vietnam memoir of a navy seals medic paperback – november 1, 2005 about the author greg mcpartlin is a former navy seals medic who served a year in vietnam just as the war was esc ...\n"
     ]
    }
   ],
   "execution_count": 5
  },
  {
   "metadata": {
    "ExecuteTime": {
     "end_time": "2025-10-06T16:36:05.732595Z",
     "start_time": "2025-10-06T16:36:05.715058Z"
    }
   },
   "cell_type": "code",
   "source": "",
   "id": "1e086dad84ae4f78",
   "outputs": [],
   "execution_count": null
  }
 ],
 "metadata": {
  "kernelspec": {
   "display_name": "Python 3",
   "language": "python",
   "name": "python3"
  },
  "language_info": {
   "codemirror_mode": {
    "name": "ipython",
    "version": 2
   },
   "file_extension": ".py",
   "mimetype": "text/x-python",
   "name": "python",
   "nbconvert_exporter": "python",
   "pygments_lexer": "ipython2",
   "version": "2.7.6"
  }
 },
 "nbformat": 4,
 "nbformat_minor": 5
}
