{
 "cells": [
  {
   "metadata": {
    "ExecuteTime": {
     "end_time": "2025-10-10T16:39:02.259709Z",
     "start_time": "2025-10-10T16:39:01.323345Z"
    }
   },
   "cell_type": "code",
   "source": [
    "from src.retriever.base_retriever import FaissStore\n",
    "\n",
    "image_store = FaissStore(\n",
    "    index_path=\"D:/BookInsight/data/vectorstores/image_faiss/shard_0/index.faiss\",\n",
    "    meta_path=\"D:/BookInsight/data/vectorstores/image_faiss/shard_0/index.pkl\",\n",
    "    modality=\"image\"\n",
    ")\n",
    "\n",
    "image_store.load()\n",
    "image_store.info()\n"
   ],
   "id": "8d372e371d432cb9",
   "outputs": [
    {
     "name": "stdout",
     "output_type": "stream",
     "text": [
      "📦 Loading FAISS index from D:/BookInsight/data/vectorstores/image_faiss/shard_0/index.faiss ...\n",
      "✅ Loaded FAISS index with 4882 vectors.\n",
      "📘 Loading metadata from D:/BookInsight/data/vectorstores/image_faiss/shard_0/index.pkl ...\n",
      "✅ Metadata rows match FAISS index: 4882 entries.\n",
      "🎯 Loaded IMAGE store successfully!\n",
      " FAISSStore (image)\n",
      "• Index path : D:/BookInsight/data/vectorstores/image_faiss/shard_0/index.faiss\n",
      "• Meta path  : D:/BookInsight/data/vectorstores/image_faiss/shard_0/index.pkl\n",
      "• Vectors    : 4882\n"
     ]
    }
   ],
   "execution_count": 1
  },
  {
   "metadata": {
    "ExecuteTime": {
     "end_time": "2025-10-10T16:39:26.619851800Z",
     "start_time": "2025-10-10T16:39:02.270651Z"
    }
   },
   "cell_type": "code",
   "source": [
    "from importlib import reload\n",
    "from src.retriever import base_retriever\n",
    "reload(base_retriever)\n",
    "\n",
    "from src.retriever.base_retriever import FaissStore\n",
    "\n",
    "image_store = FaissStore(\n",
    "    index_path=\"D:/BookInsight/data/vectorstores/image_faiss/shard_0/index.faiss\",\n",
    "    meta_path=\"D:/BookInsight/data/vectorstores/image_faiss/shard_0/index.pkl\",\n",
    "    modality=\"image\"\n",
    ")\n",
    "image_store.load()\n"
   ],
   "id": "5bdeb37695313bc4",
   "outputs": [
    {
     "name": "stdout",
     "output_type": "stream",
     "text": [
      "📦 Loading FAISS index from D:/BookInsight/data/vectorstores/image_faiss/shard_0/index.faiss ...\n",
      "✅ Loaded FAISS index with 4882 vectors.\n",
      "📘 Loading metadata from D:/BookInsight/data/vectorstores/image_faiss/shard_0/index.pkl ...\n",
      "✅ Metadata rows match FAISS index: 4882 entries.\n",
      "🎯 Loaded IMAGE store successfully!\n"
     ]
    }
   ],
   "execution_count": 2
  },
  {
   "metadata": {
    "ExecuteTime": {
     "end_time": "2025-10-10T16:39:02.336986Z",
     "start_time": "2025-10-10T16:39:02.325059Z"
    }
   },
   "cell_type": "code",
   "source": [
    "import numpy as np\n",
    "\n",
    "\n",
    "query_vec = np.random.randn(1, image_store.index.d)\n",
    "query_vec = query_vec / np.linalg.norm(query_vec, axis=1, keepdims=True)\n",
    "\n",
    "results = image_store.search(query_vec, k=5)\n",
    "for r in results:\n",
    "    print(f\"Rank {r['rank']}: score={r['score']:.4f}, title={r['metadata'].get('title')}\")\n"
   ],
   "id": "a11746bda06748c0",
   "outputs": [
    {
     "name": "stdout",
     "output_type": "stream",
     "text": [
      "Rank 1: score=1.6677, title=First Aid for the USMLE Step 1 2019, Twenty-ninth edition\n",
      "Rank 2: score=1.7282, title=School Climate: Building Safe, Supportive and Engaging Classrooms & Schools\n",
      "Rank 3: score=1.7399, title=Diving and Snorkelling Ascension Island: Guide to a Marine Life Paradise (Dived Up Guides)\n",
      "Rank 4: score=1.7447, title=COR Advantage 1.5 Scoring Guide\n",
      "Rank 5: score=1.7453, title=Base SAS 9.1.3 Procedures Guide (Four Volume Set)\n"
     ]
    }
   ],
   "execution_count": 3
  },
  {
   "metadata": {
    "ExecuteTime": {
     "end_time": "2025-10-10T16:39:16.435212Z",
     "start_time": "2025-10-10T16:39:02.347331Z"
    }
   },
   "cell_type": "code",
   "source": [
    "from src.retriever.text_image_retriever import TextImageRetriever\n",
    "retriever = TextImageRetriever(\n",
    "    text_index_path=\"D:/BookInsight/data/vectorstores/text_faiss/shard_0/index.faiss\",\n",
    "    text_meta_path=\"D:/BookInsight/data/vectorstores/text_faiss/shard_0/index.pkl\",\n",
    "    image_index_path=\"D:/BookInsight/data/vectorstores/image_faiss/shard_0/index.faiss\",\n",
    "    image_meta_path=\"D:/BookInsight/data/vectorstores/image_faiss/shard_0/index.pkl\",\n",
    ")\n",
    "retriever.load_stores()\n"
   ],
   "id": "8bb79d8ca01ae681",
   "outputs": [
    {
     "name": "stdout",
     "output_type": "stream",
     "text": [
      " Loading text FAISS store...\n",
      "📦 Loading FAISS index from D:/BookInsight/data/vectorstores/text_faiss/shard_0/index.faiss ...\n",
      "✅ Loaded FAISS index with 88956 vectors.\n",
      "📘 Loading metadata from D:/BookInsight/data/vectorstores/text_faiss/shard_0/index.pkl ...\n",
      "⚠️ Detected LangChain FAISS tuple — extracting InMemoryDocstore...\n",
      "✅ Metadata rows match FAISS index: 88956 entries.\n",
      "🎯 Loaded TEXT store successfully!\n",
      "\n",
      " Loading image FAISS store...\n",
      "📦 Loading FAISS index from D:/BookInsight/data/vectorstores/image_faiss/shard_0/index.faiss ...\n",
      "✅ Loaded FAISS index with 4882 vectors.\n",
      "📘 Loading metadata from D:/BookInsight/data/vectorstores/image_faiss/shard_0/index.pkl ...\n",
      "✅ Metadata rows match FAISS index: 4882 entries.\n",
      "🎯 Loaded IMAGE store successfully!\n"
     ]
    }
   ],
   "execution_count": 4
  },
  {
   "metadata": {
    "ExecuteTime": {
     "end_time": "2025-10-10T16:39:21.359146Z",
     "start_time": "2025-10-10T16:39:16.453160Z"
    }
   },
   "cell_type": "code",
   "source": [
    "query = \"children's fantasy about dragons\"\n",
    "text_results = retriever.retrieve_text(query, k=5)\n",
    "\n",
    "for r in text_results:\n",
    "    print(f\"({r['rank']}) {r['metadata'].get('title')} | score={r['score']:.4f}\")\n"
   ],
   "id": "6cd26b08de72897d",
   "outputs": [
    {
     "name": "stdout",
     "output_type": "stream",
     "text": [
      "Loading BGE encoder (BAAI/bge-small-en-v1.5)...\n",
      "(1) None | score=0.4183\n",
      "(2) None | score=0.4572\n",
      "(3) None | score=0.4966\n",
      "(4) None | score=0.5086\n",
      "(5) None | score=0.5230\n"
     ]
    }
   ],
   "execution_count": 5
  },
  {
   "metadata": {
    "ExecuteTime": {
     "end_time": "2025-10-10T16:39:22.466944Z",
     "start_time": "2025-10-10T16:39:21.375253Z"
    }
   },
   "cell_type": "code",
   "source": [
    "import pandas as pd\n",
    "from src.retriever.base_retriever import FaissStore\n",
    "\n",
    "meta = pd.read_pickle(\"D:/BookInsight/data/vectorstores/text_faiss/shard_0/index.pkl\")\n",
    "print(type(meta))\n",
    "if isinstance(meta, pd.DataFrame):\n",
    "    print(meta.columns[:10])\n",
    "elif isinstance(meta, tuple):\n",
    "    print(type(meta[0]), getattr(meta[0], \"columns\", None))\n",
    "else:\n",
    "    print(\"⚠️ Metadata không phải DataFrame:\", type(meta))\n"
   ],
   "id": "cbb27d8122db6407",
   "outputs": [
    {
     "name": "stdout",
     "output_type": "stream",
     "text": [
      "<class 'tuple'>\n",
      "<class 'langchain_community.docstore.in_memory.InMemoryDocstore'> None\n"
     ]
    }
   ],
   "execution_count": 6
  },
  {
   "metadata": {
    "ExecuteTime": {
     "end_time": "2025-10-10T16:39:22.488448Z",
     "start_time": "2025-10-10T16:39:22.477500Z"
    }
   },
   "cell_type": "code",
   "source": [
    "import importlib\n",
    "from src.retriever import text_image_retriever\n",
    "importlib.reload(text_image_retriever)\n",
    "\n",
    "from src.retriever.text_image_retriever import TextImageRetriever\n"
   ],
   "id": "b2bbc20ae8e1c7b6",
   "outputs": [],
   "execution_count": 7
  },
  {
   "metadata": {
    "ExecuteTime": {
     "end_time": "2025-10-10T16:39:26.574076Z",
     "start_time": "2025-10-10T16:39:22.492925Z"
    }
   },
   "cell_type": "code",
   "source": [
    "query = \"children's fantasy about dragons\"\n",
    "text_results = retriever.retrieve_text(query, k=5)\n",
    "image_results = retriever.retrieve_image_by_text(query, k=5)\n",
    "fused = retriever.fuse_results(text_results, image_results, method=\"rrf\")\n",
    "\n",
    "for r in fused:\n",
    "    print(f\"{r['rank']:>2}. [{r['source']}] {r['metadata'].get('title') or r['metadata'].get('content')} | {r['fused_score']:.4f}\")\n"
   ],
   "id": "63ef796adf31adf3",
   "outputs": [
    {
     "name": "stdout",
     "output_type": "stream",
     "text": [
      "🧠 Loading CLIP text encoder (clip-ViT-B-16)...\n"
     ]
    },
    {
     "name": "stderr",
     "output_type": "stream",
     "text": [
      "Using a slow image processor as `use_fast` is unset and a slow processor was saved with this model. `use_fast=True` will be the default behavior in v4.52, even if the model was saved with a slow processor. This will result in minor differences in outputs. You'll still be able to use a slow processor with `use_fast=False`.\n"
     ]
    },
    {
     "name": "stdout",
     "output_type": "stream",
     "text": [
      "[INFO]  Gộp 10 kết quả cuối cùng từ 10 kết quả gốc.\n",
      "[text] the prince and his dragon: u.s. english edition - magical rhyming bedtime story - picture book / beginner reader, about  | score=0.0909 | count=1\n",
      "[image] DRAGONS KINGS DRAGONLING 6 | score=0.0909 | count=1\n",
      "     🖼 https://m.media-amazon.com/images/I/51ACFGHP50L._SX330_BO1,204,203,200_.jpg\n",
      "[text] dragon riders paperback – february 23, 2010 dragon riders is an amazing adventure about three children caught up in a ti | score=0.0833 | count=1\n",
      "[image] Beware the Crystal Dragon | score=0.0833 | count=1\n",
      "     🖼 https://m.media-amazon.com/images/I/51DdR4WcnEL._SX300_BO1,204,203,200_.jpg\n",
      "[text] the language of spells: (fantasy middle grade novel, magic and wizard book for middle school kids) hardcover – june 26,  | score=0.0769 | count=1\n",
      "[image] The Princess and the Dragon | score=0.0769 | count=1\n",
      "     🖼 https://m.media-amazon.com/images/I/51LsO+0CHYL._SX473_BO1,204,203,200_.jpg\n",
      "[text] dragon fantasy - mosaic color by number -enchanted coloring book for adults: mythical magic and lore for stress relief ( | score=0.0714 | count=1\n",
      "[image] Baby Unicorn and Baby Dragon | score=0.0714 | count=1\n",
      "     🖼 https://m.media-amazon.com/images/I/41bq9ygdqLL._SY314_BO1,204,203,200_.jpg\n",
      "[text] how to draw wizards, dragons and other magical creatures: step-by-step drawings! (dover how to draw) paperback – illustr | score=0.0667 | count=1\n",
      "[image] Who Wants a Dragon? | score=0.0667 | count=1\n",
      "     🖼 https://m.media-amazon.com/images/I/51Bb5yUD6dL._SX432_BO1,204,203,200_.jpg\n"
     ]
    },
    {
     "ename": "KeyError",
     "evalue": "'source'",
     "output_type": "error",
     "traceback": [
      "\u001B[31m---------------------------------------------------------------------------\u001B[39m",
      "\u001B[31mKeyError\u001B[39m                                  Traceback (most recent call last)",
      "\u001B[36mCell\u001B[39m\u001B[36m \u001B[39m\u001B[32mIn[8]\u001B[39m\u001B[32m, line 7\u001B[39m\n\u001B[32m      4\u001B[39m fused = retriever.fuse_results(text_results, image_results, method=\u001B[33m\"\u001B[39m\u001B[33mrrf\u001B[39m\u001B[33m\"\u001B[39m)\n\u001B[32m      6\u001B[39m \u001B[38;5;28;01mfor\u001B[39;00m r \u001B[38;5;129;01min\u001B[39;00m fused:\n\u001B[32m----> \u001B[39m\u001B[32m7\u001B[39m     \u001B[38;5;28mprint\u001B[39m(\u001B[33mf\u001B[39m\u001B[33m\"\u001B[39m\u001B[38;5;132;01m{\u001B[39;00mr[\u001B[33m'\u001B[39m\u001B[33mrank\u001B[39m\u001B[33m'\u001B[39m]\u001B[38;5;132;01m:\u001B[39;00m\u001B[33m>2\u001B[39m\u001B[38;5;132;01m}\u001B[39;00m\u001B[33m. [\u001B[39m\u001B[38;5;132;01m{\u001B[39;00m\u001B[43mr\u001B[49m\u001B[43m[\u001B[49m\u001B[33;43m'\u001B[39;49m\u001B[33;43msource\u001B[39;49m\u001B[33;43m'\u001B[39;49m\u001B[43m]\u001B[49m\u001B[38;5;132;01m}\u001B[39;00m\u001B[33m] \u001B[39m\u001B[38;5;132;01m{\u001B[39;00mr[\u001B[33m'\u001B[39m\u001B[33mmetadata\u001B[39m\u001B[33m'\u001B[39m].get(\u001B[33m'\u001B[39m\u001B[33mtitle\u001B[39m\u001B[33m'\u001B[39m)\u001B[38;5;250m \u001B[39m\u001B[38;5;129;01mor\u001B[39;00m\u001B[38;5;250m \u001B[39mr[\u001B[33m'\u001B[39m\u001B[33mmetadata\u001B[39m\u001B[33m'\u001B[39m].get(\u001B[33m'\u001B[39m\u001B[33mcontent\u001B[39m\u001B[33m'\u001B[39m)\u001B[38;5;132;01m}\u001B[39;00m\u001B[33m | \u001B[39m\u001B[38;5;132;01m{\u001B[39;00mr[\u001B[33m'\u001B[39m\u001B[33mfused_score\u001B[39m\u001B[33m'\u001B[39m]\u001B[38;5;132;01m:\u001B[39;00m\u001B[33m.4f\u001B[39m\u001B[38;5;132;01m}\u001B[39;00m\u001B[33m\"\u001B[39m)\n",
      "\u001B[31mKeyError\u001B[39m: 'source'"
     ]
    }
   ],
   "execution_count": 8
  }
 ],
 "metadata": {},
 "nbformat": 4,
 "nbformat_minor": 5
}
